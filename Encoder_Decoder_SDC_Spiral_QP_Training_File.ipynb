{
 "cells": [
  {
   "cell_type": "code",
   "execution_count": 1,
   "id": "057c76cb",
   "metadata": {
    "colab": {
     "base_uri": "https://localhost:8080/"
    },
    "execution": {
     "iopub.execute_input": "2024-06-12T14:09:41.846941Z",
     "iopub.status.busy": "2024-06-12T14:09:41.846427Z",
     "iopub.status.idle": "2024-06-12T14:09:48.809883Z",
     "shell.execute_reply": "2024-06-12T14:09:48.809061Z",
     "shell.execute_reply.started": "2024-06-12T14:09:41.846915Z"
    },
    "executionInfo": {
     "elapsed": 6852,
     "status": "ok",
     "timestamp": 1689370478380,
     "user": {
      "displayName": "Mahesh Mulimani",
      "userId": "10269194138300168320"
     },
     "user_tz": 420
    },
    "id": "332cfb90-72cf-41b4-80eb-24a54c7868a6",
    "outputId": "674dbe02-c490-4bd6-d548-2da04e44ffe6"
   },
   "outputs": [],
   "source": [
    "#%%%%% Load all the variables\n",
    "import tensorflow as tf\n",
    "from tensorflow import keras\n",
    "from tensorflow.keras import layers\n",
    "from tensorflow.keras.layers import ConvLSTM2D, Bidirectional\n",
    "from keras.callbacks import ModelCheckpoint\n",
    "from tensorflow.keras.models import load_model\n",
    "from keras import Model,layers\n",
    "from keras.layers import Input,LSTM, Dense\n",
    "from keras.models import Sequential\n",
    "\n",
    "from sklearn.preprocessing import MinMaxScaler\n",
    "import zipfile\n",
    "import os\n",
    "from PIL import Image\n",
    "from numpy import save\n",
    "from math import cos, sin\n",
    "import time\n",
    "import numpy as np\n",
    "import matplotlib.pyplot as plt\n",
    "from IPython.display import clear_output\n",
    "from IPython.display import display\n",
    "from ipywidgets import widgets, HBox\n",
    "\n",
    "import imageio as io\n",
    "import cv2\n",
    "import glob\n",
    "import zipfile\n",
    "import shutil\n",
    "from scipy.ndimage import rotate\n",
    "\n",
    "import random\n",
    "from random import shuffle"
   ]
  },
  {
   "cell_type": "code",
   "execution_count": 9,
   "id": "715a924d-0a32-47b0-8410-e5140c31cda4",
   "metadata": {
    "execution": {
     "iopub.execute_input": "2024-06-12T05:41:41.535620Z",
     "iopub.status.busy": "2024-06-12T05:41:41.534976Z",
     "iopub.status.idle": "2024-06-12T05:41:41.540442Z",
     "shell.execute_reply": "2024-06-12T05:41:41.539840Z",
     "shell.execute_reply.started": "2024-06-12T05:41:41.535570Z"
    }
   },
   "outputs": [],
   "source": [
    "#%%%%% Set the random number seed for reproducibility\n",
    "def set_seeds(seed=42):\n",
    "    os.environ['TF_CUDNN_DETERMINISTIC'] = '1'\n",
    "    os.environ['PYTHONHASHSEED'] = str(seed)\n",
    "    tf.random.set_seed(seed)\n",
    "    np.random.seed(seed)\n",
    "    #random.seed(seed)\n",
    "\n",
    "# Call the function to set seeds\n",
    "set_seeds(42)\n",
    "\n",
    "# Set session configuration to be deterministic\n",
    "session_config = tf.compat.v1.ConfigProto(intra_op_parallelism_threads=1, inter_op_parallelism_threads=1)\n",
    "sess = tf.compat.v1.Session(graph=tf.compat.v1.get_default_graph(), config=session_config)\n",
    "tf.compat.v1.keras.backend.set_session(sess)"
   ]
  },
  {
   "cell_type": "code",
   "execution_count": null,
   "id": "7cbc06cb-2226-4edb-a5a9-ed621970b9a6",
   "metadata": {},
   "outputs": [],
   "source": [
    "##############################################################################\n",
    "##############################################################################\n",
    "# Step 1 Load the images and create Training and validation dataset arrays\n",
    "##############################################################################\n",
    "##############################################################################"
   ]
  },
  {
   "cell_type": "code",
   "execution_count": 12,
   "id": "f79b434f",
   "metadata": {
    "colab": {
     "base_uri": "https://localhost:8080/"
    },
    "execution": {
     "iopub.execute_input": "2024-06-08T16:29:07.036825Z",
     "iopub.status.busy": "2024-06-08T16:29:07.036455Z",
     "iopub.status.idle": "2024-06-08T16:29:11.514780Z",
     "shell.execute_reply": "2024-06-08T16:29:11.513919Z",
     "shell.execute_reply.started": "2024-06-08T16:29:07.036801Z"
    },
    "executionInfo": {
     "elapsed": 31652,
     "status": "ok",
     "timestamp": 1687818267452,
     "user": {
      "displayName": "Mahesh Mulimani",
      "userId": "10269194138300168320"
     },
     "user_tz": 420
    },
    "id": "0e91b22c-5fce-4fed-8009-d7d994aec8d6",
    "outputId": "75786738-d431-4d4a-9696-f2536a526bd5"
   },
   "outputs": [
    {
     "name": "stdout",
     "output_type": "stream",
     "text": [
      "True\n"
     ]
    }
   ],
   "source": [
    "#%%%%% Unzip and load the images zip file\n",
    "path_to_zip_file = r'images_zip_file'\n",
    "directory_to_extract_to = 'directory_to_extract_images_zip_file'\n",
    "print(os.path.isfile(path_to_zip_file))  \n",
    "\n",
    "with zipfile.ZipFile(path_to_zip_file, 'r') as zip_ref:\n",
    "    zip_ref.extractall(directory_to_extract_to)\n",
    "    "
   ]
  },
  {
   "cell_type": "code",
   "execution_count": null,
   "id": "0681e004-1c61-456d-8366-17e0c8b7589f",
   "metadata": {},
   "outputs": [],
   "source": [
    "#%%%%% Checking the number of images files in each image_IC sub folder within the images_SDC folder \n",
    "######### SDC\n",
    "NNN=0\n",
    "tt=0\n",
    "for NNN in range(1,83):\n",
    "    path = r'SDC_images_Folder/images_SDC_IC_'+str(NNN)\n",
    "    all_files = sorted(glob.glob(os.path.join(path,\"*.png\")))\n",
    "    if len(all_files)>0:\n",
    "        tt=tt+1\n",
    "        print(NNN,len(all_files))\n",
    "print(tt)\n",
    "\n",
    "######### Spiral QP\n",
    "NNN=0\n",
    "tt=0\n",
    "for NNN in range(1,52):\n",
    "    path = r'Spiral_QP_images_Folder/images_QP_IC_'+str(NNN)\n",
    "    all_files = sorted(glob.glob(os.path.join(path,\"*.png\")))\n",
    "    print(NNN,len(all_files))\n",
    "    tt=tt+1\n",
    "print(tt)"
   ]
  },
  {
   "cell_type": "code",
   "execution_count": 1,
   "id": "4296f0de",
   "metadata": {
    "executionInfo": {
     "elapsed": 5,
     "status": "ok",
     "timestamp": 1689370478381,
     "user": {
      "displayName": "Mahesh Mulimani",
      "userId": "10269194138300168320"
     },
     "user_tz": 420
    },
    "id": "Waaj33vf1Fsp"
   },
   "outputs": [],
   "source": [
    "#%%%%%% Few input Parameters\n",
    "Tlength=2 #### Number of images 1 for input and 1 for output\n",
    "training_data_time=10 #### time in ms"
   ]
  },
  {
   "cell_type": "code",
   "execution_count": null,
   "id": "58825371-0cd8-44fe-bdee-ef8975c7e250",
   "metadata": {},
   "outputs": [],
   "source": [
    "#################### Number of images_IC files containing individual SDC or Spiral QP events IDs that are used for training and validation \n",
    "Noise_Num_train_SDC=np.arange(0,35)\n",
    "Noise_Num_val_SDC=np.arange(36,51)\n",
    "Noise_Num_train_Spiral_QP=np.arange(1,36)\n",
    "Noise_Num_val_Spiral_QP=np.arange(36,51)"
   ]
  },
  {
   "cell_type": "code",
   "execution_count": null,
   "id": "5649aeb2-aae9-42b0-9039-c56f26b80e67",
   "metadata": {},
   "outputs": [],
   "source": [
    "start_time=time.time()\n",
    "############################### Creating the training dataset array##########################\n",
    "#%%%%%%%%%%%%%%%% 1. SDC dataset %%%%%%%%%%%%%%%\n",
    "\n",
    "NNN=0\n",
    "img_no=0\n",
    "for NNN in range(len(Noise_Num_train_SDC)):\n",
    "\n",
    "    path = r'SDC_images_Folder/images_IC_'+str(Noise_Num_train_SDC[NNN])\n",
    "\n",
    "    all_files = sorted(glob.glob(os.path.join(path,\"*.png\")))\n",
    "    #print(len(all_files))\n",
    "    images = np.empty(())\n",
    "    i=0\n",
    "    for filename in all_files:\n",
    "        i=i+1\n",
    "        #if i%100==0:\n",
    "            #print(i)\n",
    "        \n",
    "        img=Image.open(filename)\n",
    "        img=np.array(img)\n",
    "        if i==1:\n",
    "            img=np.expand_dims(img,axis=0)\n",
    "            images=img\n",
    "        else:    \n",
    "            img=np.expand_dims(img,axis=0)\n",
    "            images=np.append(images,img,axis=0)\n",
    "\n",
    "    print(NNN,len(all_files))\n",
    "\n",
    "    NN=images.shape[0]\n",
    "    dataset=images\n",
    "    nSamples=dataset.shape[0]\n",
    "    fps=Tlength\n",
    "    L=NN-fps\n",
    "    h=dataset.shape[1]\n",
    "    w=dataset.shape[2]\n",
    "    c=dataset.shape[3]\n",
    "\n",
    "    image_files = []\n",
    "    image_files1 = []\n",
    "    xx=np.zeros((L,h,w,c))\n",
    "    yy=np.zeros((L,h,w,c))\n",
    "    \n",
    "    for i in range(L):\n",
    "        r=i\n",
    "\n",
    "        for j in range(r,fps+r):\n",
    "            imgs=dataset[j,:,:,:]/255\n",
    "            imgs1=dataset[j+1,:,:,:]/255\n",
    "        #xx[i,:,:,:]=image_files\n",
    "        #yy[i,:,:,:]=image_files1\n",
    "            np.savez_compressed('Training_Dataset_Folder/File_'+str(img_no)+'.npy', array_1=imgs, array_2=imgs1)\n",
    "            image_files=[]\n",
    "            image_files1=[]\n",
    "            img_no+=1\n",
    "    del(images)\n",
    "    del(dataset)\n",
    "print(img_no)\n",
    "N_SDC_images = img_no\n",
    "print(r'The number of training pairs for SDC is ', N_SDC_images)\n",
    "#%%%%%%%%%%%%%%%%%%%%%%%%%%%%%%%%%%%%%%%%%%%%%%%%%%%%%%%%%%%%%%%%%%%%%%%%%%%%%%%%%%%%%%%%%%%%%%%%%%%%%%%%%\n",
    "\n",
    "#%%%%%%%%%%%%%%%%% 2. Spiral QP %%%%%%%%%%%%%%%%%%%\n",
    "\n",
    "start_time=time.time()\n",
    "NNN=0\n",
    "for NNN in range(len(Noise_Num_train_Spiral_QP)):\n",
    "\n",
    "    path = r'Spiral_QP_images_Folder/images_QP_IC_'+str(Noise_Num_train_Spiral_QP[NNN])\n",
    "    all_files = sorted(glob.glob(os.path.join(path,\"*.png\")))\n",
    "    #print(len(all_files))\n",
    "    images = np.empty(())\n",
    "    i=0\n",
    "    for filename in all_files:\n",
    "        i=i+1\n",
    "        \n",
    "        img=Image.open(filename)\n",
    "        img=np.array(img)\n",
    "        if i==1:\n",
    "            img=np.expand_dims(img,axis=0)\n",
    "            images=img\n",
    "        else:    \n",
    "            img=np.expand_dims(img,axis=0)\n",
    "            images=np.append(images,img,axis=0)\n",
    "\n",
    "    print(NNN,len(all_files))\n",
    "    NN=images.shape[0]\n",
    "    dataset=images\n",
    "    nSamples=dataset.shape[0]\n",
    "    fps=Tlength\n",
    "    L=NN-fps\n",
    "    h=dataset.shape[1]\n",
    "    w=dataset.shape[2]\n",
    "    c=dataset.shape[3]\n",
    "\n",
    "    for i in range(L):\n",
    "        r=i\n",
    "\n",
    "        for j in range(r,fps+r):\n",
    "            imgs=dataset[j,:,:,:]/255\n",
    "            imgs1=dataset[j+1,:,:,:]/255\n",
    "            np.savez_compressed('Training_Dataset_Folder/File_'+str(img_no)+'.npy', array_1=imgs, array_2=imgs1)\n",
    "            img_no+=1\n",
    "    del(images)\n",
    "    del(dataset)\n",
    "    \n",
    "print(time.time()-start_time)\n",
    "print(r'The number of training pairs for Spiral QP is ', img_no-N_SDC_images)"
   ]
  },
  {
   "cell_type": "code",
   "execution_count": 14,
   "id": "78acac1f-a6f8-4962-a661-a514f84eed9b",
   "metadata": {
    "execution": {
     "iopub.execute_input": "2024-06-08T16:30:30.732134Z",
     "iopub.status.busy": "2024-06-08T16:30:30.731620Z",
     "iopub.status.idle": "2024-06-08T16:30:30.735787Z",
     "shell.execute_reply": "2024-06-08T16:30:30.735106Z",
     "shell.execute_reply.started": "2024-06-08T16:30:30.732111Z"
    }
   },
   "outputs": [
    {
     "name": "stdout",
     "output_type": "stream",
     "text": [
      "The number of training pairs for SDC is  27860\n"
     ]
    }
   ],
   "source": [
    "print(r'The number of training pairs for SDC and Spiral QP combined is ', img_no)"
   ]
  },
  {
   "cell_type": "code",
   "execution_count": 18,
   "id": "710afa9c-60f9-4943-b2f1-16180809abfa",
   "metadata": {
    "execution": {
     "iopub.execute_input": "2024-06-08T16:31:55.338989Z",
     "iopub.status.busy": "2024-06-08T16:31:55.338233Z",
     "iopub.status.idle": "2024-06-08T16:31:55.489690Z",
     "shell.execute_reply": "2024-06-08T16:31:55.489191Z",
     "shell.execute_reply.started": "2024-06-08T16:31:55.338958Z"
    }
   },
   "outputs": [
    {
     "name": "stdout",
     "output_type": "stream",
     "text": [
      "(180, 180, 3) (180, 180, 3)\n"
     ]
    },
    {
     "data": {
      "image/png": "[encoded data removed]",
      "text/plain": [
       "<Figure size 640x480 with 2 Axes>"
      ]
     },
     "metadata": {},
     "output_type": "display_data"
    }
   ],
   "source": [
    "############ Example check to verify the input and the output images \n",
    "\n",
    "data=np.load('Training_Datset_Folder/File_1.npy.npz')\n",
    "x=data['array_1']\n",
    "y=data['array_2']\n",
    "print(x.shape,y.shape)\n",
    "\n",
    "plt.subplot(1,2,1)\n",
    "plt.imshow(x)\n",
    "plt.subplot(1,2,2)\n",
    "plt.imshow(y)\n",
    "plt.show()"
   ]
  },
  {
   "cell_type": "code",
   "execution_count": null,
   "id": "175efc28-7307-4f21-b320-569e3f58a8f8",
   "metadata": {},
   "outputs": [],
   "source": [
    "start_time=time.time()\n",
    "################################ Validation dataset ##########################\n",
    "\n",
    "######################### SDC\n",
    "\n",
    "img_no=0\n",
    "NNN=0\n",
    "for NNN in range(len(Noise_Num_val_SDC)):\n",
    "\n",
    "    path = r'SDC_images_Folder/SDC/images_IC_'+str(Noise_Num_val_SDC[NNN])\n",
    "    all_files = sorted(glob.glob(os.path.join(path,\"*.png\")))\n",
    "    #print(len(all_files))\n",
    "    images = np.empty(())\n",
    "    i=0\n",
    "    for filename in all_files:\n",
    "        i=i+1\n",
    "        #if i%100==0:\n",
    "            #print(i)\n",
    "        \n",
    "        img=Image.open(filename)\n",
    "        img=np.array(img)\n",
    "        if i==1:\n",
    "            img=np.expand_dims(img,axis=0)\n",
    "            images=img\n",
    "        else:    \n",
    "            img=np.expand_dims(img,axis=0)\n",
    "            images=np.append(images,img,axis=0)\n",
    "\n",
    "    print(NNN,len(all_files))\n",
    "\n",
    "    NN=images.shape[0]\n",
    "    dataset=images\n",
    "    nSamples=dataset.shape[0]\n",
    "    fps=Tlength\n",
    "    L=NN-fps\n",
    "    h=dataset.shape[1]\n",
    "    w=dataset.shape[2]\n",
    "    c=dataset.shape[3]\n",
    "    \n",
    "    for i in range(L):\n",
    "        r=i\n",
    "\n",
    "        for j in range(r,fps+r):\n",
    "            imgs=dataset[j,:,:,:]/255\n",
    "            imgs1=dataset[j+1,:,:,:]/255\n",
    "            np.savez_compressed('Validation_Dataset_Folder/File_'+str(img_no)+'.npy', array_1=imgs, array_2=imgs1)\n",
    "            img_no+=1\n",
    "    del(images)\n",
    "    del(dataset)\n",
    "print(r'The number of validation pairs for SDC is ', img_no)\n",
    "\n",
    "########################## Spiral QP\n",
    "\n",
    "NNN=0\n",
    "for NNN in range(len(Noise_Num_val_Spiral_QP)):\n",
    "\n",
    "    path = r'Spiral_QP_images_Folder/images_QP_IC_'+str(Noise_Num_val_Spiral_QP[NNN])\n",
    "    all_files = sorted(glob.glob(os.path.join(path,\"*.png\")))\n",
    "    #print(len(all_files))\n",
    "    images = np.empty(())\n",
    "    i=0\n",
    "    for filename in all_files:\n",
    "        i=i+1\n",
    "        #if i%100==0:\n",
    "            #print(i)\n",
    "        \n",
    "        img=Image.open(filename)\n",
    "        img=np.array(img)\n",
    "        if i==1:\n",
    "            img=np.expand_dims(img,axis=0)\n",
    "            images=img\n",
    "        else:    \n",
    "            img=np.expand_dims(img,axis=0)\n",
    "            images=np.append(images,img,axis=0)\n",
    "\n",
    "    print(NNN,len(all_files))\n",
    "\n",
    "    NN=images.shape[0]\n",
    "    dataset=images\n",
    "    nSamples=dataset.shape[0]\n",
    "    fps=Tlength\n",
    "    L=NN-fps\n",
    "    h=dataset.shape[1]\n",
    "    w=dataset.shape[2]\n",
    "    c=dataset.shape[3]\n",
    "\n",
    "    \n",
    "    for i in range(L):\n",
    "        r=i\n",
    "\n",
    "        for j in range(r,fps+r):\n",
    "            imgs=dataset[j,:,:,:]/255\n",
    "            imgs1=dataset[j+1,:,:,:]/255\n",
    "            np.savez_compressed('Validation_Dataset_Folder/File_'+str(img_no)+'.npy', array_1=imgs, array_2=imgs1)\n",
    "\n",
    "            img_no+=1\n",
    "    del(images)\n",
    "    del(dataset)\n",
    "print(r'The number of validation pairs for Spiral QP is ', img_no)\n",
    "    \n",
    "print(time.time()-start_time)"
   ]
  },
  {
   "cell_type": "code",
   "execution_count": 25,
   "id": "745356ca-8ddd-426b-b028-2afbb8401140",
   "metadata": {
    "execution": {
     "iopub.execute_input": "2024-06-08T16:58:57.481608Z",
     "iopub.status.busy": "2024-06-08T16:58:57.480924Z",
     "iopub.status.idle": "2024-06-08T16:59:00.148605Z",
     "shell.execute_reply": "2024-06-08T16:59:00.147841Z",
     "shell.execute_reply.started": "2024-06-08T16:58:57.481577Z"
    }
   },
   "outputs": [
    {
     "name": "stdout",
     "output_type": "stream",
     "text": [
      "55720 23880\n"
     ]
    }
   ],
   "source": [
    "########################### Number of training and validation files\n",
    "\n",
    "path=r'Training_Dataset_Folder' \n",
    "all_files = sorted(glob.glob(os.path.join(path,\"*.npy.npz\")))\n",
    "all_files=sorted(all_files)\n",
    "Num_train=len(all_files)\n",
    "\n",
    "path=r'Validation_Dataset_Folder' \n",
    "all_files = sorted(glob.glob(os.path.join(path,\"*.npy.npz\")))\n",
    "all_files=sorted(all_files)\n",
    "Num_val=len(all_files)\n",
    "\n",
    "print(Num_train,Num_val)"
   ]
  },
  {
   "cell_type": "code",
   "execution_count": null,
   "id": "cb1f8cff-0949-4342-9316-1cc997a8e0b7",
   "metadata": {},
   "outputs": [],
   "source": [
    "##############################################################################\n",
    "##############################################################################\n",
    "# Step 2 Creating datagenerators for training and validation\n",
    "##############################################################################\n",
    "##############################################################################"
   ]
  },
  {
   "cell_type": "code",
   "execution_count": 10,
   "id": "6cc40640-fb34-4a3f-9937-2649ccbe7788",
   "metadata": {
    "execution": {
     "iopub.execute_input": "2024-06-12T05:41:53.589739Z",
     "iopub.status.busy": "2024-06-12T05:41:53.588923Z",
     "iopub.status.idle": "2024-06-12T05:41:53.593768Z",
     "shell.execute_reply": "2024-06-12T05:41:53.593037Z",
     "shell.execute_reply.started": "2024-06-12T05:41:53.589714Z"
    }
   },
   "outputs": [
    {
     "name": "stdout",
     "output_type": "stream",
     "text": [
      "{'dim': (180, 180), 'batch_size': 20, 'n_channels': 3, 'shuffle': True}\n"
     ]
    }
   ],
   "source": [
    "################## Inputs\n",
    "tmw=100\n",
    "size1=180\n",
    "BATCH_SIZE=20 ######## Divisible by 16100 and 8050\n",
    "N_CHANNELS=3\n",
    "\n",
    "# Parameters\n",
    "params = {'dim': (size1,size1),\n",
    "          'batch_size': BATCH_SIZE,\n",
    "          'n_channels': N_CHANNELS,\n",
    "          'shuffle': True}\n",
    "\n",
    "print(params)"
   ]
  },
  {
   "cell_type": "code",
   "execution_count": 11,
   "id": "ba8081cb-0da5-4310-91f2-e0433aa997bc",
   "metadata": {
    "execution": {
     "iopub.execute_input": "2024-06-12T05:41:55.908173Z",
     "iopub.status.busy": "2024-06-12T05:41:55.907747Z",
     "iopub.status.idle": "2024-06-12T05:41:55.920557Z",
     "shell.execute_reply": "2024-06-12T05:41:55.919939Z",
     "shell.execute_reply.started": "2024-06-12T05:41:55.908144Z"
    }
   },
   "outputs": [],
   "source": [
    "############################### DATAGENERATORS ##################################\n",
    "#################################################################################\n",
    "\n",
    "class train_DataGenerator(keras.utils.Sequence): \n",
    "    def __init__(self, list_IDs, batch_size=BATCH_SIZE, dim=(size1,size1), n_channels=N_CHANNELS, shuffle=True):#'Initialization'\n",
    "        self.dim = dim\n",
    "        self.list_IDs = list_IDs\n",
    "        self.batch_size = batch_size\n",
    "        self.n_channels = n_channels\n",
    "        self.shuffle = shuffle\n",
    "        self.on_epoch_end()\n",
    " \n",
    "    def __len__(self):\n",
    "        #'Denotes the number of batches per epoch'\n",
    "        return int(np.floor(len(self.list_IDs) / self.batch_size))\n",
    "\n",
    "    def __getitem__(self, index):#Generate one batch of data'\n",
    "        # Generate indexes of the batch\n",
    "        indexes = self.indexes[index*self.batch_size:(index+1)*self.batch_size]\n",
    "\n",
    "        # Find list of IDs\n",
    "        list_IDs_temp = [self.list_IDs[k] for k in indexes]\n",
    "        # Generate data\n",
    "        X, y = self.__data_generation(list_IDs_temp)\n",
    "        return X, y\n",
    "    \n",
    "    def on_epoch_end(self): ##'Updates indexes after each epoch'\n",
    "        self.indexes = np.arange(len(self.list_IDs))\n",
    "        if self.shuffle == True:\n",
    "            np.random.shuffle(self.indexes)    \n",
    "\n",
    "    def __data_generation(self, list_IDs_temp):#'Generates data containing batch_size samples' # X : (n_samples, *dim, n_channels)\n",
    "        # Initialization\n",
    "        X = np.empty((self.batch_size, *self.dim, self.n_channels))\n",
    "        y = np.empty((self.batch_size, *self.dim, self.n_channels))\n",
    "\n",
    "        # Generate data\n",
    "        for i,ID in enumerate(list_IDs_temp):\n",
    "            # Store sample\n",
    "            data0 = np.load('Training_Datset_Folder/File_' + str(ID) + '.npy.npz')\n",
    "            X[i,]=data0['array_1']\n",
    "            y[i,]=data0['array_2']\n",
    "            del(data0)\n",
    "        return X,y\n",
    "\n",
    "###################### Validation datagenerators  \n",
    "    \n",
    "class val_DataGenerator(keras.utils.Sequence): \n",
    "    def __init__(self, list_IDs, batch_size=BATCH_SIZE, dim=(size1,size1), n_channels=N_CHANNELS, shuffle=True):#'Initialization'\n",
    "        self.dim = dim\n",
    "        self.list_IDs = list_IDs\n",
    "        self.batch_size = batch_size\n",
    "        self.n_channels = n_channels\n",
    "        self.shuffle = shuffle\n",
    "        self.on_epoch_end()\n",
    " \n",
    "    def __len__(self):\n",
    "        #'Denotes the number of batches per epoch'\n",
    "        return int(np.floor(len(self.list_IDs) / self.batch_size))\n",
    "\n",
    "    def __getitem__(self, index):#Generate one batch of data'\n",
    "        # Generate indexes of the batch\n",
    "        indexes = self.indexes[index*self.batch_size:(index+1)*self.batch_size]\n",
    "\n",
    "        # Find list of IDs\n",
    "        list_IDs_temp = [self.list_IDs[k] for k in indexes]\n",
    "        # Generate data\n",
    "        X, y = self.__data_generation(list_IDs_temp)\n",
    "        return X, y\n",
    "    \n",
    "    def on_epoch_end(self): ##'Updates indexes after each epoch'\n",
    "        self.indexes = np.arange(len(self.list_IDs))\n",
    "        if self.shuffle == True:\n",
    "            np.random.shuffle(self.indexes)    \n",
    "\n",
    "    def __data_generation(self, list_IDs_temp):#'Generates data containing batch_size samples' # X : (n_samples, *dim, n_channels)\n",
    "        # Initialization\n",
    "        X = np.empty((self.batch_size, *self.dim, self.n_channels))\n",
    "        y = np.empty((self.batch_size, *self.dim, self.n_channels))\n",
    "\n",
    "        # Generate data\n",
    "        for i,ID in enumerate(list_IDs_temp):\n",
    "            # Store sample\n",
    "            data0 = np.load('Validation_Datset_Folder/File_' + str(ID) + '.npy.npz')\n",
    "            X[i,]=data0['array_1']\n",
    "            y[i,]=data0['array_2']\n",
    "            del(data0)\n",
    "        return X,y\n"
   ]
  },
  {
   "cell_type": "code",
   "execution_count": 29,
   "id": "94ababcd",
   "metadata": {
    "execution": {
     "iopub.execute_input": "2024-06-08T17:00:38.964068Z",
     "iopub.status.busy": "2024-06-08T17:00:38.963809Z",
     "iopub.status.idle": "2024-06-08T17:00:39.003879Z",
     "shell.execute_reply": "2024-06-08T17:00:39.003167Z",
     "shell.execute_reply.started": "2024-06-08T17:00:38.964047Z"
    },
    "executionInfo": {
     "elapsed": 426,
     "status": "ok",
     "timestamp": 1689370404444,
     "user": {
      "displayName": "Mahesh Mulimani",
      "userId": "10269194138300168320"
     },
     "user_tz": 420
    },
    "id": "53aa24b5-07b2-4041-aa8b-e406c1c53e87"
   },
   "outputs": [
    {
     "name": "stdout",
     "output_type": "stream",
     "text": [
      "<__main__.train_DataGenerator object at 0x7fdea97ce100>\n",
      "<__main__.val_DataGenerator object at 0x7fdeb9036b80>\n"
     ]
    }
   ],
   "source": [
    "################################ Train and Validation Generators with there Indices ####################################\n",
    "########################################################################################################################\n",
    "tindex=int(Num_Files_train)\n",
    "vindex=int(Num_Files_val)\n",
    "\n",
    "train_index = list(range(Num_Files_train))\n",
    "random.shuffle(train_index)\n",
    "val_index =  list(range(Num_Files_val))\n",
    "random.shuffle(val_index)\n",
    "\n",
    "#print(train_index)\n",
    "save('Training_details_Folder/train_indexes.npy',train_index)\n",
    "save('Training_details_Folder/val_indexes.npy',val_index)# Generators\n",
    "#with tf.device(\"GPU\"):\n",
    "\n",
    "training_generator = train_DataGenerator(train_index, **params)\n",
    "validation_generator = val_DataGenerator(val_index, **params)\n",
    "print(training_generator)\n",
    "print(validation_generator)"
   ]
  },
  {
   "cell_type": "code",
   "execution_count": 12,
   "id": "890d87f1-d06f-488d-8484-0efd5a2b7021",
   "metadata": {
    "execution": {
     "iopub.execute_input": "2024-06-12T05:42:00.361328Z",
     "iopub.status.busy": "2024-06-12T05:42:00.360749Z",
     "iopub.status.idle": "2024-06-12T05:42:00.389905Z",
     "shell.execute_reply": "2024-06-12T05:42:00.389031Z",
     "shell.execute_reply.started": "2024-06-12T05:42:00.361304Z"
    }
   },
   "outputs": [
    {
     "name": "stdout",
     "output_type": "stream",
     "text": [
      "<__main__.train_DataGenerator object at 0x7f1e539d60d0>\n",
      "<__main__.val_DataGenerator object at 0x7f1e3392a370>\n"
     ]
    }
   ],
   "source": [
    "#### If already saved\n",
    "train_index=np.load('/notebooks/June_2024_Set_1_dt_10ms/Training_details_8_June/train_indexes.npy')\n",
    "val_index=np.load('/notebooks/June_2024_Set_1_dt_10ms/Training_details_8_June/val_indexes.npy')\n",
    "\n",
    "training_generator = train_DataGenerator(train_index, **params)\n",
    "validation_generator = val_DataGenerator(val_index, **params)\n",
    "print(training_generator)\n",
    "print(validation_generator)"
   ]
  },
  {
   "cell_type": "code",
   "execution_count": 15,
   "id": "9b724e17-532b-4e3c-b086-42f120ade898",
   "metadata": {
    "execution": {
     "iopub.execute_input": "2024-04-14T18:25:31.647078Z",
     "iopub.status.busy": "2024-04-14T18:25:31.646803Z",
     "iopub.status.idle": "2024-04-14T18:25:31.650871Z",
     "shell.execute_reply": "2024-04-14T18:25:31.650176Z",
     "shell.execute_reply.started": "2024-04-14T18:25:31.647061Z"
    }
   },
   "outputs": [
    {
     "name": "stdout",
     "output_type": "stream",
     "text": [
      "(7342, 180, 180, 3) (7342, 180, 180, 3)\n",
      "(3572, 180, 180, 3) (3572, 180, 180, 3)\n"
     ]
    }
   ],
   "source": [
    "print(x_train.shape,y_train.shape)\n",
    "print(x_val.shape,y_val.shape)"
   ]
  },
  {
   "cell_type": "code",
   "execution_count": 30,
   "id": "211357a0-ec1c-4856-994d-67182aaaacc8",
   "metadata": {
    "execution": {
     "iopub.execute_input": "2024-06-08T17:00:45.544883Z",
     "iopub.status.busy": "2024-06-08T17:00:45.544584Z",
     "iopub.status.idle": "2024-06-08T17:00:48.124544Z",
     "shell.execute_reply": "2024-06-08T17:00:48.121092Z",
     "shell.execute_reply.started": "2024-06-08T17:00:45.544861Z"
    }
   },
   "outputs": [
    {
     "name": "stdout",
     "output_type": "stream",
     "text": [
      "(None, 180, 180, 100)\n",
      "(None, 90, 90, 100)\n",
      "(None, 90, 90, 120)\n",
      "(None, 45, 45, 120)\n",
      "(None, 45, 45, 140)\n",
      "(None, 15, 15, 140)\n",
      "(None, 15, 15, 160)\n",
      "(None, 5, 5, 160)\n",
      "(None, 5, 5, 160)\n",
      "\n",
      "\n",
      "(None, 15, 15, 160)\n",
      "(None, 15, 15, 160)\n",
      "(None, 45, 45, 140)\n",
      "(None, 45, 45, 140)\n",
      "(None, 90, 90, 120)\n",
      "(None, 90, 90, 120)\n",
      "(None, 180, 180, 100)\n",
      "(None, 180, 180, 100)\n",
      "(None, 180, 180, 100)\n",
      "(None, 180, 180, 3)\n",
      "Model: \"model\"\n",
      "_________________________________________________________________\n",
      " Layer (type)                Output Shape              Param #   \n",
      "=================================================================\n",
      " input_1 (InputLayer)        [(None, 180, 180, 3)]     0         \n",
      "                                                                 \n",
      " conv2d (Conv2D)             (None, 180, 180, 100)     2800      \n",
      "                                                                 \n",
      " max_pooling2d (MaxPooling2D  (None, 90, 90, 100)      0         \n",
      " )                                                               \n",
      "                                                                 \n",
      " conv2d_1 (Conv2D)           (None, 90, 90, 120)       108120    \n",
      "                                                                 \n",
      " max_pooling2d_1 (MaxPooling  (None, 45, 45, 120)      0         \n",
      " 2D)                                                             \n",
      "                                                                 \n",
      " conv2d_2 (Conv2D)           (None, 45, 45, 140)       151340    \n",
      "                                                                 \n",
      " max_pooling2d_2 (MaxPooling  (None, 15, 15, 140)      0         \n",
      " 2D)                                                             \n",
      "                                                                 \n",
      " conv2d_3 (Conv2D)           (None, 15, 15, 160)       201760    \n",
      "                                                                 \n",
      " max_pooling2d_3 (MaxPooling  (None, 5, 5, 160)        0         \n",
      " 2D)                                                             \n",
      "                                                                 \n",
      " batch_normalization (BatchN  (None, 5, 5, 160)        640       \n",
      " ormalization)                                                   \n",
      "                                                                 \n",
      " conv2d_transpose (Conv2DTra  (None, 15, 15, 160)      230560    \n",
      " nspose)                                                         \n",
      "                                                                 \n",
      " conv2d_4 (Conv2D)           (None, 15, 15, 160)       102560    \n",
      "                                                                 \n",
      " conv2d_transpose_1 (Conv2DT  (None, 45, 45, 140)      201740    \n",
      " ranspose)                                                       \n",
      "                                                                 \n",
      " conv2d_5 (Conv2D)           (None, 45, 45, 140)       78540     \n",
      "                                                                 \n",
      " conv2d_transpose_2 (Conv2DT  (None, 90, 90, 120)      151320    \n",
      " ranspose)                                                       \n",
      "                                                                 \n",
      " conv2d_6 (Conv2D)           (None, 90, 90, 120)       57720     \n",
      "                                                                 \n",
      " conv2d_transpose_3 (Conv2DT  (None, 180, 180, 100)    108100    \n",
      " ranspose)                                                       \n",
      "                                                                 \n",
      " conv2d_7 (Conv2D)           (None, 180, 180, 100)     40100     \n",
      "                                                                 \n",
      " batch_normalization_1 (Batc  (None, 180, 180, 100)    400       \n",
      " hNormalization)                                                 \n",
      "                                                                 \n",
      " conv2d_8 (Conv2D)           (None, 180, 180, 3)       1203      \n",
      "                                                                 \n",
      "=================================================================\n",
      "Total params: 1,436,903\n",
      "Trainable params: 1,436,383\n",
      "Non-trainable params: 520\n",
      "_________________________________________________________________\n"
     ]
    }
   ],
   "source": [
    "######################## Create the Conv2D Encoder-Decoder DL model architecture ########################\n",
    "\n",
    "from tensorflow.keras.layers import MaxPool2D,UpSampling3D, Conv2D,Conv3D,Dropout\n",
    "\n",
    "\n",
    "######### Number of Filters to be used\n",
    "\n",
    "NF1=100\n",
    "NF2=120\n",
    "NF3=140\n",
    "NF4=160\n",
    "\n",
    "from tensorflow.keras.layers import MaxPool2D,UpSampling3D, Conv2D,Conv3D\n",
    "\n",
    "inp = layers.Input(shape=(180,180,3))#(None, *x_train.shape[2:]))\n",
    "######## Encoder-Decoder Network\n",
    "x=layers.Conv2D(filters=NF1,kernel_size=3,padding=\"same\",activation=\"relu\",)(inp)\n",
    "print(x.shape)\n",
    "x=layers.MaxPool2D(strides=2,padding=\"same\")(x)\n",
    "print(x.shape)\n",
    "x=layers.Conv2D(filters=NF2,kernel_size=3,padding=\"same\",activation=\"relu\",)(x)\n",
    "print(x.shape)\n",
    "x=layers.MaxPool2D(strides=2,padding=\"same\")(x)\n",
    "print(x.shape)\n",
    "x=layers.Conv2D(filters=NF3,kernel_size=3,padding=\"same\",activation=\"relu\",)(x)\n",
    "print(x.shape)\n",
    "x=layers.MaxPool2D(strides=3,padding=\"same\")(x)\n",
    "print(x.shape)\n",
    "x=layers.Conv2D(filters=NF4,kernel_size=3,padding=\"same\",activation=\"relu\",)(x)\n",
    "print(x.shape)\n",
    "x=layers.MaxPool2D(strides=3,padding=\"same\")(x)\n",
    "print(x.shape)\n",
    "x=layers.BatchNormalization()(x)#, training=True)\n",
    "print(x.shape)\n",
    "\n",
    "print('\\n')\n",
    "\n",
    "\n",
    "x=layers.Conv2DTranspose(filters=NF4,kernel_size=3,strides=3,padding=\"same\",activation=\"relu\")(x)\n",
    "print(x.shape)\n",
    "x=layers.Conv2D(filters=NF4,kernel_size=2,padding=\"same\",activation=\"relu\")(x)\n",
    "print(x.shape)\n",
    "\n",
    "\n",
    "x=layers.Conv2DTranspose(filters=NF3,kernel_size=3,strides=3,padding=\"same\",activation=\"relu\")(x)\n",
    "print(x.shape)\n",
    "x=layers.Conv2D(filters=NF3,kernel_size=2,padding=\"same\",activation=\"relu\")(x)\n",
    "print(x.shape)\n",
    "\n",
    "\n",
    "x=layers.Conv2DTranspose(filters=NF2,kernel_size=3,strides=2,padding=\"same\",activation=\"relu\")(x)\n",
    "print(x.shape)\n",
    "x=layers.Conv2D(filters=NF2,kernel_size=2,padding=\"same\",activation=\"relu\")(x)\n",
    "print(x.shape)\n",
    "\n",
    "\n",
    "x=layers.Conv2DTranspose(filters=NF1,kernel_size=3,strides=2,padding=\"same\",activation=\"relu\")(x)\n",
    "print(x.shape)\n",
    "x=layers.Conv2D(filters=NF1,kernel_size=2,padding=\"same\",activation=\"relu\")(x)\n",
    "print(x.shape)\n",
    "\n",
    "x=layers.BatchNormalization()(x)#, training=True)\n",
    "print(x.shape)\n",
    "\n",
    "x = layers.Conv2D(filters=3, kernel_size=(2, 2), activation='sigmoid', padding='same', data_format='channels_last')(x)\n",
    "print(x.shape)\n",
    "model = keras.models.Model(inp, x)\n",
    "model.summary()"
   ]
  },
  {
   "cell_type": "code",
   "execution_count": null,
   "id": "27ae42dc-f0e0-417f-91f8-d4b78e39a241",
   "metadata": {},
   "outputs": [],
   "source": [
    "# Define modifiable training hyperparameters\n",
    "Num_epochs =20000\n",
    "learning_rate=0.5*1e-3"
   ]
  },
  {
   "cell_type": "code",
   "execution_count": null,
   "id": "70f789e9",
   "metadata": {
    "colab": {
     "background_save": true,
     "base_uri": "https://localhost:8080/"
    },
    "execution": {
     "iopub.execute_input": "2024-06-12T05:42:28.631097Z",
     "iopub.status.busy": "2024-06-12T05:42:28.630494Z"
    },
    "id": "78c77ea7-ac3b-4190-a66d-20ced9c34dc4"
   },
   "outputs": [
    {
     "name": "stderr",
     "output_type": "stream",
     "text": [
      "/tmp/ipykernel_32/1722967725.py:22: UserWarning: `Model.fit_generator` is deprecated and will be removed in a future version. Please use `Model.fit`, which supports generators.\n",
      "  history = model.fit_generator(generator=training_generator,\n"
     ]
    },
    {
     "name": "stdout",
     "output_type": "stream",
     "text": [
      "Epoch 1/20000\n"
     ]
    },
    {
     "name": "stderr",
     "output_type": "stream",
     "text": [
      "2024-06-12 05:42:29.245654: E tensorflow/core/grappler/optimizers/meta_optimizer.cc:903] layout failed: INVALID_ARGUMENT: Size of values 0 does not match size of permutation 4 @ fanin shape ingradient_tape/huber_loss/SelectV2-2-TransposeNHWCToNCHW-LayoutOptimizer\n"
     ]
    },
    {
     "name": "stdout",
     "output_type": "stream",
     "text": [
      "2786/2786 [==============================] - ETA: 0s - loss: 3.0180e-04\n",
      "Epoch 1: val_loss improved from inf to 0.00057, saving model to /notebooks/June_2024_Set_1_dt_10ms/Training_details_8_June/Model_Set_1_Cont_10.h5\n",
      "2786/2786 [==============================] - 646s 229ms/step - loss: 3.0180e-04 - val_loss: 5.7221e-04\n",
      "Epoch 2/20000\n",
      "2786/2786 [==============================] - ETA: 0s - loss: 2.8977e-04\n",
      "Epoch 2: val_loss did not improve from 0.00057\n",
      "2786/2786 [==============================] - 631s 227ms/step - loss: 2.8977e-04 - val_loss: 5.7855e-04\n",
      "Epoch 3/20000\n",
      "2786/2786 [==============================] - ETA: 0s - loss: 2.9168e-04\n",
      "Epoch 3: val_loss did not improve from 0.00057\n",
      "2786/2786 [==============================] - 590s 212ms/step - loss: 2.9168e-04 - val_loss: 5.9490e-04\n",
      "Epoch 4/20000\n",
      "2786/2786 [==============================] - ETA: 0s - loss: 2.8778e-04\n",
      "Epoch 4: val_loss improved from 0.00057 to 0.00056, saving model to /notebooks/June_2024_Set_1_dt_10ms/Training_details_8_June/Model_Set_1_Cont_10.h5\n",
      "2786/2786 [==============================] - 597s 214ms/step - loss: 2.8778e-04 - val_loss: 5.6389e-04\n",
      "Epoch 5/20000\n",
      "2786/2786 [==============================] - ETA: 0s - loss: 2.8549e-04\n",
      "Epoch 5: val_loss did not improve from 0.00056\n",
      "2786/2786 [==============================] - 598s 215ms/step - loss: 2.8549e-04 - val_loss: 5.7327e-04\n",
      "Epoch 6/20000\n",
      "2786/2786 [==============================] - ETA: 0s - loss: 2.8518e-04\n",
      "Epoch 6: val_loss did not improve from 0.00056\n",
      "2786/2786 [==============================] - 566s 203ms/step - loss: 2.8518e-04 - val_loss: 6.0658e-04\n",
      "Epoch 7/20000\n",
      "2786/2786 [==============================] - ETA: 0s - loss: 2.8429e-04\n",
      "Epoch 7: val_loss did not improve from 0.00056\n",
      "2786/2786 [==============================] - 666s 239ms/step - loss: 2.8429e-04 - val_loss: 5.6428e-04\n",
      "Epoch 8/20000\n",
      "2786/2786 [==============================] - ETA: 0s - loss: 2.8187e-04\n",
      "Epoch 8: val_loss did not improve from 0.00056\n",
      "2786/2786 [==============================] - 591s 212ms/step - loss: 2.8187e-04 - val_loss: 6.0523e-04\n",
      "Epoch 9/20000\n",
      "2786/2786 [==============================] - ETA: 0s - loss: 2.8092e-04\n",
      "Epoch 9: val_loss did not improve from 0.00056\n",
      "2786/2786 [==============================] - 597s 214ms/step - loss: 2.8092e-04 - val_loss: 5.7742e-04\n",
      "Epoch 10/20000\n",
      "2786/2786 [==============================] - ETA: 0s - loss: 2.8074e-04\n",
      "Epoch 10: val_loss did not improve from 0.00056\n",
      "2786/2786 [==============================] - 594s 213ms/step - loss: 2.8074e-04 - val_loss: 5.8975e-04\n",
      "Epoch 11/20000\n",
      "2786/2786 [==============================] - ETA: 0s - loss: 2.7650e-04\n",
      "Epoch 11: val_loss did not improve from 0.00056\n",
      "2786/2786 [==============================] - 645s 231ms/step - loss: 2.7650e-04 - val_loss: 5.8091e-04\n",
      "Epoch 12/20000\n",
      "2786/2786 [==============================] - ETA: 0s - loss: 2.7767e-04\n",
      "Epoch 12: val_loss did not improve from 0.00056\n",
      "2786/2786 [==============================] - 676s 243ms/step - loss: 2.7767e-04 - val_loss: 5.9101e-04\n",
      "Epoch 13/20000\n",
      "2786/2786 [==============================] - ETA: 0s - loss: 2.7490e-04\n",
      "Epoch 13: val_loss did not improve from 0.00056\n",
      "2786/2786 [==============================] - 590s 212ms/step - loss: 2.7490e-04 - val_loss: 5.7522e-04\n",
      "Epoch 14/20000\n",
      "2786/2786 [==============================] - ETA: 0s - loss: 2.7482e-04\n",
      "Epoch 14: val_loss did not improve from 0.00056\n",
      "2786/2786 [==============================] - 580s 208ms/step - loss: 2.7482e-04 - val_loss: 6.0581e-04\n",
      "Epoch 15/20000\n",
      "2786/2786 [==============================] - ETA: 0s - loss: 2.7248e-04\n",
      "Epoch 15: val_loss improved from 0.00056 to 0.00055, saving model to /notebooks/June_2024_Set_1_dt_10ms/Training_details_8_June/Model_Set_1_Cont_10.h5\n",
      "2786/2786 [==============================] - 575s 206ms/step - loss: 2.7248e-04 - val_loss: 5.5057e-04\n",
      "Epoch 16/20000\n",
      "2786/2786 [==============================] - ETA: 0s - loss: 2.7262e-04\n",
      "Epoch 16: val_loss did not improve from 0.00055\n",
      "2786/2786 [==============================] - 672s 241ms/step - loss: 2.7262e-04 - val_loss: 5.7924e-04\n",
      "Epoch 17/20000\n",
      "2786/2786 [==============================] - ETA: 0s - loss: 2.7045e-04\n",
      "Epoch 17: val_loss did not improve from 0.00055\n",
      "2786/2786 [==============================] - 619s 222ms/step - loss: 2.7045e-04 - val_loss: 5.7345e-04\n",
      "Epoch 18/20000\n",
      "2786/2786 [==============================] - ETA: 0s - loss: 2.6979e-04\n",
      "Epoch 18: val_loss did not improve from 0.00055\n",
      "2786/2786 [==============================] - 561s 201ms/step - loss: 2.6979e-04 - val_loss: 5.7463e-04\n",
      "Epoch 19/20000\n",
      "2786/2786 [==============================] - ETA: 0s - loss: 2.6751e-04\n",
      "Epoch 19: val_loss did not improve from 0.00055\n",
      "2786/2786 [==============================] - 552s 198ms/step - loss: 2.6751e-04 - val_loss: 5.5517e-04\n",
      "Epoch 20/20000\n",
      "2786/2786 [==============================] - ETA: 0s - loss: 2.6752e-04\n",
      "Epoch 20: val_loss did not improve from 0.00055\n",
      "2786/2786 [==============================] - 612s 220ms/step - loss: 2.6752e-04 - val_loss: 5.6967e-04\n",
      "Epoch 21/20000\n",
      "2786/2786 [==============================] - ETA: 0s - loss: 2.6614e-04\n",
      "Epoch 21: val_loss improved from 0.00055 to 0.00054, saving model to /notebooks/June_2024_Set_1_dt_10ms/Training_details_8_June/Model_Set_1_Cont_10.h5\n",
      "2786/2786 [==============================] - 632s 227ms/step - loss: 2.6614e-04 - val_loss: 5.4098e-04\n",
      "Epoch 22/20000\n",
      "2786/2786 [==============================] - ETA: 0s - loss: 2.6807e-04\n",
      "Epoch 22: val_loss did not improve from 0.00054\n",
      "2786/2786 [==============================] - 605s 217ms/step - loss: 2.6807e-04 - val_loss: 5.5516e-04\n",
      "Epoch 23/20000\n",
      "2786/2786 [==============================] - ETA: 0s - loss: 2.6570e-04\n",
      "Epoch 23: val_loss did not improve from 0.00054\n",
      "2786/2786 [==============================] - 571s 205ms/step - loss: 2.6570e-04 - val_loss: 5.7111e-04\n",
      "Epoch 24/20000\n",
      "2786/2786 [==============================] - ETA: 0s - loss: 2.6371e-04\n",
      "Epoch 24: val_loss did not improve from 0.00054\n",
      "2786/2786 [==============================] - 614s 220ms/step - loss: 2.6371e-04 - val_loss: 6.0706e-04\n",
      "Epoch 25/20000\n",
      "2786/2786 [==============================] - ETA: 0s - loss: 2.6188e-04\n",
      "Epoch 25: val_loss did not improve from 0.00054\n",
      "2786/2786 [==============================] - 694s 249ms/step - loss: 2.6188e-04 - val_loss: 5.5930e-04\n",
      "Epoch 26/20000\n",
      "2786/2786 [==============================] - ETA: 0s - loss: 2.5859e-04\n",
      "Epoch 26: val_loss did not improve from 0.00054\n",
      "2786/2786 [==============================] - 606s 217ms/step - loss: 2.5859e-04 - val_loss: 5.6574e-04\n",
      "Epoch 27/20000\n",
      "2786/2786 [==============================] - ETA: 0s - loss: 2.5994e-04\n",
      "Epoch 27: val_loss did not improve from 0.00054\n",
      "2786/2786 [==============================] - 598s 215ms/step - loss: 2.5994e-04 - val_loss: 5.4499e-04\n",
      "Epoch 28/20000\n",
      "2786/2786 [==============================] - ETA: 0s - loss: 2.5930e-04\n",
      "Epoch 28: val_loss did not improve from 0.00054\n",
      "2786/2786 [==============================] - 580s 208ms/step - loss: 2.5930e-04 - val_loss: 5.4925e-04\n",
      "Epoch 29/20000\n",
      "2786/2786 [==============================] - ETA: 0s - loss: 2.5760e-04\n",
      "Epoch 29: val_loss did not improve from 0.00054\n",
      "2786/2786 [==============================] - 649s 233ms/step - loss: 2.5760e-04 - val_loss: 5.5301e-04\n",
      "Epoch 30/20000\n",
      "2786/2786 [==============================] - ETA: 0s - loss: 2.5690e-04\n",
      "Epoch 30: val_loss did not improve from 0.00054\n",
      "2786/2786 [==============================] - 594s 213ms/step - loss: 2.5690e-04 - val_loss: 5.4939e-04\n",
      "Epoch 31/20000\n",
      "2786/2786 [==============================] - ETA: 0s - loss: 2.5820e-04\n",
      "Epoch 31: val_loss did not improve from 0.00054\n",
      "2786/2786 [==============================] - 640s 230ms/step - loss: 2.5820e-04 - val_loss: 5.8379e-04\n",
      "Epoch 32/20000\n",
      "2786/2786 [==============================] - ETA: 0s - loss: 2.5576e-04\n",
      "Epoch 32: val_loss did not improve from 0.00054\n",
      "2786/2786 [==============================] - 651s 234ms/step - loss: 2.5576e-04 - val_loss: 5.6318e-04\n",
      "Epoch 33/20000\n",
      "2786/2786 [==============================] - ETA: 0s - loss: 2.5484e-04\n",
      "Epoch 33: val_loss did not improve from 0.00054\n",
      "2786/2786 [==============================] - 655s 235ms/step - loss: 2.5484e-04 - val_loss: 5.6744e-04\n",
      "Epoch 34/20000\n",
      "2786/2786 [==============================] - ETA: 0s - loss: 2.5475e-04\n",
      "Epoch 34: val_loss did not improve from 0.00054\n",
      "2786/2786 [==============================] - 701s 252ms/step - loss: 2.5475e-04 - val_loss: 5.6750e-04\n",
      "Epoch 35/20000\n",
      "1319/2786 [=============>................] - ETA: 3:17 - loss: 2.4894e-04"
     ]
    }
   ],
   "source": [
    "######################## Training the DL model\n",
    "\n",
    "# Define modifiable training hyperparameters\n",
    "Num_epochs =20000\n",
    "learning_rate=0.5*1e-3\n",
    "\n",
    "PATH_MODEL_SAVE = r'Training_details'\n",
    "model.compile(loss=keras.losses.Huber(), optimizer=keras.optimizers.Adam(learning_rate=learning_rate))\n",
    "\n",
    "\n",
    "# Define the checkpoint and save the trained model\n",
    "filepath = PATH_MODEL_SAVE +\"/Model.h5\"\n",
    "cp1= ModelCheckpoint(filepath=filepath, monitor='val_loss', save_best_only=True, verbose=1, mode='min')\n",
    "history_cb = tf.keras.callbacks.CSVLogger(PATH_MODEL_SAVE +'/Loss_File.csv', separator=\",\", append=False)\n",
    "\n",
    "# Define callbacks to improve training.\n",
    "early_stopping = keras.callbacks.EarlyStopping(monitor=\"val_loss\", patience=20)\n",
    "reduce_lr = keras.callbacks.ReduceLROnPlateau(monitor=\"val_loss\", patience=10)\n",
    "callbacks_list =[cp1, history_cb, early_stopping, reduce_lr ]\n",
    "\n",
    "\n",
    "# Fit the DL model to the training dataset and verify for validation dataset \n",
    "history = model.fit_generator(generator=training_generator,\n",
    "                  steps_per_epoch=len(train_index) //BATCH_SIZE,\n",
    "                  validation_data=validation_generator,        \n",
    "                  validation_steps=len(val_index) // BATCH_SIZE,\n",
    "                  epochs=Num_epochs,\n",
    "                  callbacks=[callbacks_list])"
   ]
  }
 ],
 "metadata": {
  "accelerator": "GPU",
  "colab": {
   "machine_shape": "hm",
   "name": "",
   "version": ""
  },
  "kernelspec": {
   "display_name": "Python 3 (ipykernel)",
   "language": "python",
   "name": "python3"
  },
  "language_info": {
   "codemirror_mode": {
    "name": "ipython",
    "version": 3
   },
   "file_extension": ".py",
   "mimetype": "text/x-python",
   "name": "python",
   "nbconvert_exporter": "python",
   "pygments_lexer": "ipython3",
   "version": "3.9.12"
  }
 },
 "nbformat": 4,
 "nbformat_minor": 5
}
